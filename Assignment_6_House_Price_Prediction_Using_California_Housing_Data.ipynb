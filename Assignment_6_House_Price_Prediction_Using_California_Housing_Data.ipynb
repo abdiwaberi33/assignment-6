{
  "nbformat": 4,
  "nbformat_minor": 0,
  "metadata": {
    "colab": {
      "provenance": [],
      "authorship_tag": "ABX9TyPIf+7dA3g37ykxEGX/Tqlp",
      "include_colab_link": true
    },
    "kernelspec": {
      "name": "python3",
      "display_name": "Python 3"
    },
    "language_info": {
      "name": "python"
    }
  },
  "cells": [
    {
      "cell_type": "markdown",
      "metadata": {
        "id": "view-in-github",
        "colab_type": "text"
      },
      "source": [
        "<a href=\"https://colab.research.google.com/github/abdiwaberi33/assignment-6/blob/main/Assignment_6_House_Price_Prediction_Using_California_Housing_Data.ipynb\" target=\"_parent\"><img src=\"https://colab.research.google.com/assets/colab-badge.svg\" alt=\"Open In Colab\"/></a>"
      ]
    },
    {
      "cell_type": "code",
      "execution_count": null,
      "metadata": {
        "id": "c1R2j6QQKE3y"
      },
      "outputs": [],
      "source": [
        "# 1 Imports\n",
        "import pandas as pd\n",
        "import numpy as np\n",
        "import matplotlib.pyplot as plt\n",
        "import seaborn as sns\n",
        "from sklearn.datasets import fetch_california_housing\n",
        "from sklearn.model_selection import train_test_split\n",
        "from sklearn.linear_model import LinearRegression\n",
        "from sklearn.metrics import mean_squared_error, r2_score"
      ]
    },
    {
      "cell_type": "code",
      "source": [
        "# 2 Data Collection and Loading\n",
        "# Load the dataset from sklearn and convert it into a pandas DataFrame.\n",
        "\n",
        "# Load dataset\n",
        "data = fetch_california_housing()\n",
        "df = pd.DataFrame(data.data, columns=data.feature_names)\n",
        "df['MedHouseVal'] = data.target  # Add target variable\n"
      ],
      "metadata": {
        "collapsed": true,
        "id": "szF4dqrsMF6S"
      },
      "execution_count": null,
      "outputs": []
    },
    {
      "cell_type": "code",
      "source": [
        "# 3 Quick Check of Data\n",
        "# Inspect the dataset structure and data types.\n",
        "\n",
        "# Display first 5 rows\n",
        "print(df.head())\n",
        "\n",
        "# Check data types and statistics\n",
        "print(df.info())\n",
        "print(df.describe())"
      ],
      "metadata": {
        "id": "nUFhG6YDMrYK"
      },
      "execution_count": null,
      "outputs": []
    },
    {
      "cell_type": "code",
      "source": [
        "# 4 EDA and Data Preprocessing\n",
        "# Check for Missing Values\n",
        "print(df.isnull().sum())  # No missing values in this dataset\n"
      ],
      "metadata": {
        "id": "lPc6IhKlS-vR"
      },
      "execution_count": null,
      "outputs": []
    }
  ]
}