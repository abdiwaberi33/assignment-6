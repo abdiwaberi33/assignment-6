{
  "nbformat": 4,
  "nbformat_minor": 0,
  "metadata": {
    "colab": {
      "provenance": [],
      "authorship_tag": "ABX9TyMlnmWdaawbKAWR7stsn1a7",
      "include_colab_link": true
    },
    "kernelspec": {
      "name": "python3",
      "display_name": "Python 3"
    },
    "language_info": {
      "name": "python"
    }
  },
  "cells": [
    {
      "cell_type": "markdown",
      "metadata": {
        "id": "view-in-github",
        "colab_type": "text"
      },
      "source": [
        "<a href=\"https://colab.research.google.com/github/abdiwaberi33/assignment-6/blob/main/Copy_of_Assignment_7.ipynb\" target=\"_parent\"><img src=\"https://colab.research.google.com/assets/colab-badge.svg\" alt=\"Open In Colab\"/></a>"
      ]
    },
    {
      "cell_type": "code",
      "execution_count": null,
      "metadata": {
        "id": "wZLa9eqZSyuh"
      },
      "outputs": [],
      "source": [
        "# link to my GitHub repository:  https://colab.research.google.com/drive/1Adzx7XRBBaTziu6gmE00N7x9Mkjn4RDT?usp=sharing\n",
        "\n",
        "# 1. Imports\n",
        "# Start by importing all necessary libraries for data handling, visualization and model building.\n",
        "import pandas as pd\n",
        "import numpy as np\n",
        "import matplotlib.pyplot as plt\n",
        "import seaborn as sns\n",
        "from sklearn.datasets import load_boston\n",
        "from sklearn.model_selection import train_test_split\n",
        "from sklearn.tree import DecisionTreeRegressor\n",
        "from sklearn.ensemble import RandomForestRegressor\n",
        "from sklearn.metrics import mean_squared_error, r2_score\n"
      ]
    },
    {
      "cell_type": "code",
      "source": [
        "# 2. Data Collection and Loading\n",
        "# Load the 'Boston Housing' dataset from sklearn and convert it into a pandas DataFrame.\n",
        "# Load dataset\n",
        "boston = load_boston()\n",
        "data = pd.DataFrame(boston.data, columns=boston.feature_names)\n",
        "data['MEDV'] = boston.target  # Add target variable\n"
      ],
      "metadata": {
        "id": "_QLa4lUYTXuE"
      },
      "execution_count": null,
      "outputs": []
    },
    {
      "cell_type": "code",
      "source": [
        "# 3. Quick Check of Data\n",
        "# Display the first few rows and inspect the dataset structure.\n",
        "# Display first 5 rows\n",
        "print(data.head())\n",
        "# Check data types and statistics\n",
        "print(data.info())\n",
        "print(data.describe())\n"
      ],
      "metadata": {
        "id": "gX2o9clTTm8g"
      },
      "execution_count": null,
      "outputs": []
    },
    {
      "cell_type": "code",
      "source": [
        "# 4. EDA and Data Preprocessing\n",
        "# Check for missing values:\n",
        "print(data.isnull().sum())\n"
      ],
      "metadata": {
        "id": "3-ysk2IhUPBG"
      },
      "execution_count": null,
      "outputs": []
    },
    {
      "cell_type": "code",
      "source": [
        "# Visualize relationships between features and target:\n",
        "# Function to automate scatter plots\n",
        "def plot_features_vs_target(features, target, data):\n",
        "    for feature in features:\n",
        "        plt.figure(figsize=(6, 4))\n",
        "        plt.scatter(data[feature], data[target], alpha=0.5)\n",
        "        plt.xlabel(feature)\n",
        "        plt.ylabel(target)\n",
        "        plt.title(f'{feature} vs {target}')\n",
        "        plt.show()\n",
        "\n",
        "# Example usage\n",
        "features_to_plot = ['RM', 'LSTAT', 'AGE', 'CRIM']\n",
        "plot_features_vs_target(features_to_plot, 'MEDV', data)\n"
      ],
      "metadata": {
        "id": "9VLBSBTsUeVa"
      },
      "execution_count": null,
      "outputs": []
    },
    {
      "cell_type": "code",
      "source": [
        "# 5. ML Model Training\n",
        "# Split the dataset into training and testing sets:\n",
        "X = data.drop('MEDV', axis=1)\n",
        "y = data['MEDV']\n",
        "X_train, X_test, y_train, y_test = train_test_split(X, y, test_size=0.2, random_state=42)\n"
      ],
      "metadata": {
        "id": "_dAWjwGqUvB4"
      },
      "execution_count": null,
      "outputs": []
    },
    {
      "cell_type": "code",
      "source": [
        "# Choose and train a regression model (Random Forest example):\n",
        "model = RandomForestRegressor(random_state=42)\n",
        "model.fit(X_train, y_train)\n"
      ],
      "metadata": {
        "id": "6frPdRc5U9Ak"
      },
      "execution_count": null,
      "outputs": []
    },
    {
      "cell_type": "code",
      "source": [
        "# 6. Model Evaluation\n",
        "# Evaluate performance using RMSE and R-squared:\n",
        "y_pred = model.predict(X_test)\n",
        "rmse = np.sqrt(mean_squared_error(y_test, y_pred))\n",
        "r2 = r2_score(y_test, y_pred)\n",
        "print(f'RMSE: {rmse:.2f}')\n",
        "print(f'R-squared: {r2:.2f}')\n"
      ],
      "metadata": {
        "id": "ooRpaxbIVID3"
      },
      "execution_count": null,
      "outputs": []
    },
    {
      "cell_type": "code",
      "source": [
        "# Parameter Tuning (Optional):\n",
        "# Example: GridSearchCV for hyperparameter tuning\n",
        "from sklearn.model_selection import GridSearchCV\n",
        "param_grid = {'n_estimators': [50, 100], 'max_depth': [None, 10]}\n",
        "grid_search = GridSearchCV(model, param_grid, cv=5)\n",
        "grid_search.fit(X_train, y_train)\n",
        "best_model = grid_search.best_estimator_\n"
      ],
      "metadata": {
        "id": "D9WSz7OfVSBG"
      },
      "execution_count": null,
      "outputs": []
    },
    {
      "cell_type": "code",
      "source": [],
      "metadata": {
        "id": "OEI32SboVZhA"
      },
      "execution_count": null,
      "outputs": []
    },
    {
      "cell_type": "code",
      "source": [
        "# 7. Model Prediction\n",
        "# Predict house prices for new data:\n",
        "new_data = [[0.2, 12.5, 7.07, 0, 0.5, 6.5, 68, 4.0, 2, 250, 17, 400, 12]]  # Example input\n",
        "predicted_price = model.predict(new_data)\n",
        "print(f'Predicted Price: ${predicted_price[0] * 1000:.2f}')\n"
      ],
      "metadata": {
        "id": "taqvJCwOViP4"
      },
      "execution_count": null,
      "outputs": []
    }
  ]
}